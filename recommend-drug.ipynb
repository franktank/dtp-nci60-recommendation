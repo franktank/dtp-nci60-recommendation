{
 "cells": [
  {
   "cell_type": "code",
   "execution_count": 19,
   "metadata": {
    "collapsed": true
   },
   "outputs": [],
   "source": [
    "import pandas as pd\n",
    "import sklearn as sk\n",
    "import numpy as np\n",
    "import matplotlib.pyplot as plt\n",
    "import implicit\n",
    "import scipy\n",
    "from implicit.nearest_neighbours import (BM25Recommender, CosineRecommender,\n",
    "                                         TFIDFRecommender, bm25_weight)\n",
    "\n",
    "df1 = pd.read_excel(\"./drugnsc.xlsx\")\n",
    "df2 = pd.read_excel(\"./nscquerylist.xlsx\")"
   ]
  },
  {
   "cell_type": "code",
   "execution_count": 20,
   "metadata": {},
   "outputs": [
    {
     "data": {
      "text/html": [
       "<div>\n",
       "<style>\n",
       "    .dataframe thead tr:only-child th {\n",
       "        text-align: right;\n",
       "    }\n",
       "\n",
       "    .dataframe thead th {\n",
       "        text-align: left;\n",
       "    }\n",
       "\n",
       "    .dataframe tbody tr th {\n",
       "        vertical-align: top;\n",
       "    }\n",
       "</style>\n",
       "<table border=\"1\" class=\"dataframe\">\n",
       "  <thead>\n",
       "    <tr style=\"text-align: right;\">\n",
       "      <th></th>\n",
       "      <th>NSC # b</th>\n",
       "      <th>Drug name</th>\n",
       "      <th>FDA status</th>\n",
       "      <th>Mechanism of action c</th>\n",
       "      <th>PubChem SID</th>\n",
       "      <th>SMILES d</th>\n",
       "      <th>BR:MCF7</th>\n",
       "      <th>BR:MDA-MB-231</th>\n",
       "      <th>BR:HS 578T</th>\n",
       "      <th>BR:BT-549</th>\n",
       "      <th>...</th>\n",
       "      <th>RE:786-0</th>\n",
       "      <th>RE:A498</th>\n",
       "      <th>RE:ACHN</th>\n",
       "      <th>RE:CAKI-1</th>\n",
       "      <th>RE:RXF 393</th>\n",
       "      <th>RE:SN12C</th>\n",
       "      <th>RE:TK-10</th>\n",
       "      <th>RE:UO-31</th>\n",
       "      <th>Total experiments</th>\n",
       "      <th>Total after quality control</th>\n",
       "    </tr>\n",
       "  </thead>\n",
       "  <tbody>\n",
       "    <tr>\n",
       "      <th>8934</th>\n",
       "      <td>658490</td>\n",
       "      <td>-</td>\n",
       "      <td>-</td>\n",
       "      <td>-</td>\n",
       "      <td>508320</td>\n",
       "      <td>CN1\\C(=C/c2cccc(Cl)c2Cl)\\C(=O)N(\\C=C\\3/C(=O)Oc...</td>\n",
       "      <td>-0.36</td>\n",
       "      <td>-0.5</td>\n",
       "      <td>1.37</td>\n",
       "      <td>-0.15</td>\n",
       "      <td>...</td>\n",
       "      <td>-0.62</td>\n",
       "      <td>1.2</td>\n",
       "      <td>0.21</td>\n",
       "      <td>-0.42</td>\n",
       "      <td>-0.55</td>\n",
       "      <td>-0.82</td>\n",
       "      <td>na</td>\n",
       "      <td>na</td>\n",
       "      <td>1</td>\n",
       "      <td>1</td>\n",
       "    </tr>\n",
       "    <tr>\n",
       "      <th>20864</th>\n",
       "      <td>763123</td>\n",
       "      <td>-</td>\n",
       "      <td>-</td>\n",
       "      <td>-</td>\n",
       "      <td>-</td>\n",
       "      <td>CCN(Cc1ccc(OC)cc1)c2ccc(CO)c(Cl)c2</td>\n",
       "      <td>1.51</td>\n",
       "      <td>-0.83</td>\n",
       "      <td>-0.9</td>\n",
       "      <td>-0.64</td>\n",
       "      <td>...</td>\n",
       "      <td>-0.54</td>\n",
       "      <td>2.26</td>\n",
       "      <td>-0.83</td>\n",
       "      <td>0.57</td>\n",
       "      <td>-0.35</td>\n",
       "      <td>-0.7</td>\n",
       "      <td>1.94</td>\n",
       "      <td>-0.28</td>\n",
       "      <td>2</td>\n",
       "      <td>2</td>\n",
       "    </tr>\n",
       "    <tr>\n",
       "      <th>7768</th>\n",
       "      <td>647050</td>\n",
       "      <td>-</td>\n",
       "      <td>-</td>\n",
       "      <td>-</td>\n",
       "      <td>503345</td>\n",
       "      <td>C1CCCC2=O[Nd+3]345(O=C(CCCCCCC6=O[Nd+3]78(O=C(...</td>\n",
       "      <td>na</td>\n",
       "      <td>na</td>\n",
       "      <td>na</td>\n",
       "      <td>na</td>\n",
       "      <td>...</td>\n",
       "      <td>-0.29</td>\n",
       "      <td>-0.29</td>\n",
       "      <td>-0.29</td>\n",
       "      <td>-0.29</td>\n",
       "      <td>na</td>\n",
       "      <td>-0.29</td>\n",
       "      <td>-0.29</td>\n",
       "      <td>-0.29</td>\n",
       "      <td>1</td>\n",
       "      <td>1</td>\n",
       "    </tr>\n",
       "  </tbody>\n",
       "</table>\n",
       "<p>3 rows × 68 columns</p>\n",
       "</div>"
      ],
      "text/plain": [
       "       NSC # b Drug name FDA status Mechanism of action c PubChem SID  \\\n",
       "8934    658490         -          -                     -      508320   \n",
       "20864   763123         -          -                     -           -   \n",
       "7768    647050         -          -                     -      503345   \n",
       "\n",
       "                                                SMILES d BR:MCF7  \\\n",
       "8934   CN1\\C(=C/c2cccc(Cl)c2Cl)\\C(=O)N(\\C=C\\3/C(=O)Oc...   -0.36   \n",
       "20864                 CCN(Cc1ccc(OC)cc1)c2ccc(CO)c(Cl)c2    1.51   \n",
       "7768   C1CCCC2=O[Nd+3]345(O=C(CCCCCCC6=O[Nd+3]78(O=C(...      na   \n",
       "\n",
       "      BR:MDA-MB-231 BR:HS 578T BR:BT-549             ...             RE:786-0  \\\n",
       "8934           -0.5       1.37     -0.15             ...                -0.62   \n",
       "20864         -0.83       -0.9     -0.64             ...                -0.54   \n",
       "7768             na         na        na             ...                -0.29   \n",
       "\n",
       "      RE:A498 RE:ACHN RE:CAKI-1 RE:RXF 393 RE:SN12C RE:TK-10 RE:UO-31  \\\n",
       "8934      1.2    0.21     -0.42      -0.55    -0.82       na       na   \n",
       "20864    2.26   -0.83      0.57      -0.35     -0.7     1.94    -0.28   \n",
       "7768    -0.29   -0.29     -0.29         na    -0.29    -0.29    -0.29   \n",
       "\n",
       "      Total experiments Total after quality control  \n",
       "8934                  1                           1  \n",
       "20864                 2                           2  \n",
       "7768                  1                           1  \n",
       "\n",
       "[3 rows x 68 columns]"
      ]
     },
     "execution_count": 20,
     "metadata": {},
     "output_type": "execute_result"
    }
   ],
   "source": [
    "df1.sample(3)"
   ]
  },
  {
   "cell_type": "code",
   "execution_count": 21,
   "metadata": {
    "collapsed": true
   },
   "outputs": [],
   "source": [
    "copy_df1 = df1.drop('Drug name', 1).drop('FDA status', 1).drop('Mechanism of action c', 1).drop('PubChem SID', 1).drop('SMILES d', 1).drop('Total experiments', 1).drop('Total after quality control', 1)\n"
   ]
  },
  {
   "cell_type": "code",
   "execution_count": 22,
   "metadata": {
    "collapsed": true
   },
   "outputs": [],
   "source": [
    "copy_df1 = copy_df1.set_index('NSC # b')\n",
    "copy_df1 = copy_df1.replace('na', '0.00')\n",
    "copy_df1 = copy_df1.stack().reset_index().rename(columns={'level_0':'drug','level_1':'cancer_cell_lines', 0:'z_score'})"
   ]
  },
  {
   "cell_type": "code",
   "execution_count": 23,
   "metadata": {},
   "outputs": [
    {
     "data": {
      "text/html": [
       "<div>\n",
       "<style>\n",
       "    .dataframe thead tr:only-child th {\n",
       "        text-align: right;\n",
       "    }\n",
       "\n",
       "    .dataframe thead th {\n",
       "        text-align: left;\n",
       "    }\n",
       "\n",
       "    .dataframe tbody tr th {\n",
       "        vertical-align: top;\n",
       "    }\n",
       "</style>\n",
       "<table border=\"1\" class=\"dataframe\">\n",
       "  <thead>\n",
       "    <tr style=\"text-align: right;\">\n",
       "      <th></th>\n",
       "      <th>NSC # b</th>\n",
       "      <th>cancer_cell_lines</th>\n",
       "      <th>z_score</th>\n",
       "    </tr>\n",
       "  </thead>\n",
       "  <tbody>\n",
       "    <tr>\n",
       "      <th>998641</th>\n",
       "      <td>717167</td>\n",
       "      <td>BR:MDA-MB-231</td>\n",
       "      <td>-1.84</td>\n",
       "    </tr>\n",
       "    <tr>\n",
       "      <th>100006</th>\n",
       "      <td>99282</td>\n",
       "      <td>OV:OVCAR-5</td>\n",
       "      <td>-0.42</td>\n",
       "    </tr>\n",
       "    <tr>\n",
       "      <th>822041</th>\n",
       "      <td>694256</td>\n",
       "      <td>LC:NCI-H460</td>\n",
       "      <td>-0.25</td>\n",
       "    </tr>\n",
       "  </tbody>\n",
       "</table>\n",
       "</div>"
      ],
      "text/plain": [
       "        NSC # b cancer_cell_lines z_score\n",
       "998641   717167     BR:MDA-MB-231   -1.84\n",
       "100006    99282        OV:OVCAR-5   -0.42\n",
       "822041   694256       LC:NCI-H460   -0.25"
      ]
     },
     "execution_count": 23,
     "metadata": {},
     "output_type": "execute_result"
    }
   ],
   "source": [
    "copy_df1.sample(3)"
   ]
  },
  {
   "cell_type": "code",
   "execution_count": 24,
   "metadata": {
    "collapsed": true
   },
   "outputs": [],
   "source": [
    "copy_df1['NSC # b'] = copy_df1['NSC # b'].astype(\"category\")\n",
    "copy_df1['cancer_cell_lines'] = copy_df1['cancer_cell_lines'].astype(\"category\")"
   ]
  },
  {
   "cell_type": "code",
   "execution_count": 25,
   "metadata": {},
   "outputs": [
    {
     "data": {
      "text/html": [
       "<div>\n",
       "<style>\n",
       "    .dataframe thead tr:only-child th {\n",
       "        text-align: right;\n",
       "    }\n",
       "\n",
       "    .dataframe thead th {\n",
       "        text-align: left;\n",
       "    }\n",
       "\n",
       "    .dataframe tbody tr th {\n",
       "        vertical-align: top;\n",
       "    }\n",
       "</style>\n",
       "<table border=\"1\" class=\"dataframe\">\n",
       "  <thead>\n",
       "    <tr style=\"text-align: right;\">\n",
       "      <th></th>\n",
       "      <th>NSC # b</th>\n",
       "      <th>cancer_cell_lines</th>\n",
       "      <th>z_score</th>\n",
       "    </tr>\n",
       "  </thead>\n",
       "  <tbody>\n",
       "    <tr>\n",
       "      <th>678089</th>\n",
       "      <td>676553</td>\n",
       "      <td>ME:SK-MEL-5</td>\n",
       "      <td>0.98</td>\n",
       "    </tr>\n",
       "    <tr>\n",
       "      <th>547611</th>\n",
       "      <td>661096</td>\n",
       "      <td>PR:DU-145</td>\n",
       "      <td>-0.16</td>\n",
       "    </tr>\n",
       "    <tr>\n",
       "      <th>1219825</th>\n",
       "      <td>756152</td>\n",
       "      <td>ME:MALME-3M</td>\n",
       "      <td>-0.78</td>\n",
       "    </tr>\n",
       "  </tbody>\n",
       "</table>\n",
       "</div>"
      ],
      "text/plain": [
       "        NSC # b cancer_cell_lines z_score\n",
       "678089   676553       ME:SK-MEL-5    0.98\n",
       "547611   661096         PR:DU-145   -0.16\n",
       "1219825  756152       ME:MALME-3M   -0.78"
      ]
     },
     "execution_count": 25,
     "metadata": {},
     "output_type": "execute_result"
    }
   ],
   "source": [
    "copy_df1.sample(3)"
   ]
  },
  {
   "cell_type": "code",
   "execution_count": 33,
   "metadata": {},
   "outputs": [],
   "source": [
    "zscores = scipy.sparse.csr_matrix((copy_df1['z_score'].astype(float),\n",
    "                       (copy_df1['cancer_cell_lines'].cat.codes.copy(),\n",
    "                        copy_df1['NSC # b'].cat.codes.copy())))\n",
    "zscores = bm25_weight(zscores, K1=100, B=0.8)\n",
    "model = implicit.als.AlternatingLeastSquares(factors=40,\n",
    "                                        regularization=20,\n",
    "                                        use_native=False,\n",
    "                                        use_cg=False,\n",
    "                                        iterations=5)\n",
    "model.fit(zscores)"
   ]
  },
  {
   "cell_type": "code",
   "execution_count": 34,
   "metadata": {},
   "outputs": [
    {
     "data": {
      "text/plain": [
       "[(52, 9.8148261034252864e-59),\n",
       " (55, 3.7838474234825754e-59),\n",
       " (51, 8.3580766184834039e-60),\n",
       " (4, 3.7313418799020025e-60),\n",
       " (6, 3.7096232323349794e-60),\n",
       " (12, 1.8494135314887833e-60),\n",
       " (21, 1.8064830984479417e-60),\n",
       " (7, 1.717005784060618e-60),\n",
       " (1, 1.322375619206584e-60),\n",
       " (56, 1.0156411538467729e-60)]"
      ]
     },
     "execution_count": 34,
     "metadata": {},
     "output_type": "execute_result"
    }
   ],
   "source": [
    "# Recommend a cancer cell line for a drug - [0,21738]\n",
    "recommended_cell_lines = model.recommend(10000, zscores2.T)\n",
    "recommended_cell_lines"
   ]
  },
  {
   "cell_type": "code",
   "execution_count": 35,
   "metadata": {},
   "outputs": [
    {
     "data": {
      "text/plain": [
       "[(5, 1.0),\n",
       " (57, 0.99828772783059194),\n",
       " (48, 0.98579062777603643),\n",
       " (3, 0.96190837657887174),\n",
       " (20, 0.96152840884781665),\n",
       " (40, 0.88753468756304621),\n",
       " (50, 0.88684557873590242),\n",
       " (42, 0.82350697586415922),\n",
       " (45, 0.78840396726461581),\n",
       " (9, 0.77097874813317513)]"
      ]
     },
     "execution_count": 35,
     "metadata": {},
     "output_type": "execute_result"
    }
   ],
   "source": [
    "# Similar cancer cell line - [0,60]\n",
    "similar_cell_lines = model.similar_items(5)\n",
    "similar_cell_lines"
   ]
  },
  {
   "cell_type": "code",
   "execution_count": 36,
   "metadata": {},
   "outputs": [
    {
     "data": {
      "text/plain": [
       "<60x21738 sparse matrix of type '<class 'numpy.float64'>'\n",
       "\twith 1304280 stored elements in COOrdinate format>"
      ]
     },
     "execution_count": 36,
     "metadata": {},
     "output_type": "execute_result"
    }
   ],
   "source": [
    "zscores.nnz\n",
    "zscores"
   ]
  },
  {
   "cell_type": "code",
   "execution_count": null,
   "metadata": {
    "collapsed": true
   },
   "outputs": [],
   "source": []
  }
 ],
 "metadata": {
  "kernelspec": {
   "display_name": "Python 3",
   "language": "python",
   "name": "python3"
  },
  "language_info": {
   "codemirror_mode": {
    "name": "ipython",
    "version": 3
   },
   "file_extension": ".py",
   "mimetype": "text/x-python",
   "name": "python",
   "nbconvert_exporter": "python",
   "pygments_lexer": "ipython3",
   "version": "3.6.2"
  }
 },
 "nbformat": 4,
 "nbformat_minor": 2
}
